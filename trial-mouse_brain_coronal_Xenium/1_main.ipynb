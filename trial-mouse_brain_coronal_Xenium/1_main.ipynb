{
 "cells": [
  {
   "cell_type": "code",
   "execution_count": 1,
   "metadata": {},
   "outputs": [
    {
     "name": "stderr",
     "output_type": "stream",
     "text": [
      "/home/poncey/miniconda3/envs/stforte_env/lib/python3.9/site-packages/pytorch_lightning/utilities/seed.py:47: LightningDeprecationWarning: `pytorch_lightning.utilities.seed.seed_everything` has been deprecated in v1.8.0 and will be removed in v2.0.0. Please use `lightning_fabric.utilities.seed.seed_everything` instead.\n",
      "  rank_zero_deprecation(\n",
      "Global seed set to 0\n"
     ]
    }
   ],
   "source": [
    "import os\n",
    "import pandas as pd\n",
    "import scanpy as sc\n",
    "os.chdir(path='../')\n",
    "import STForte.helper as stfhelper\n",
    "from STForte import STGraph\n",
    "from STForte import STForteModel\n",
    "from STForte.helper import save_gdata\n",
    "trial_name = \"trial-mouse_brain_coronal_Xenium\""
   ]
  },
  {
   "cell_type": "code",
   "execution_count": 2,
   "metadata": {},
   "outputs": [
    {
     "data": {
      "text/plain": [
       "AnnData object with n_obs × n_vars = 130870 × 248\n",
       "    obs: 'cell_id', 'x_centroid', 'y_centroid', 'transcript_counts', 'control_probe_counts', 'control_codeword_counts', 'total_counts', 'cell_area', 'nucleus_area'\n",
       "    var: 'gene_ids', 'feature_types', 'genome'\n",
       "    obsm: 'spatial'"
      ]
     },
     "execution_count": 2,
     "metadata": {},
     "output_type": "execute_result"
    }
   ],
   "source": [
    "adata = sc.read_10x_h5(\n",
    "    filename=\"../stforte/data/xenium/Xenium_V1_FF_Mouse_Brain_Coronal_feature_matrix.h5\"\n",
    ")\n",
    "df = pd.read_csv(\n",
    "    \"../stforte/data/xenium/Xenium_V1_FF_Mouse_Brain_Coronal_outscells.csv\"\n",
    ")\n",
    "df.set_index(adata.obs_names, inplace=True)\n",
    "adata.obs = df.copy()\n",
    "adata.obsm[\"spatial\"] = adata.obs[[\"x_centroid\", \"y_centroid\"]].copy().to_numpy()\n",
    "adata"
   ]
  },
  {
   "cell_type": "code",
   "execution_count": 3,
   "metadata": {},
   "outputs": [
    {
     "data": {
      "text/plain": [
       "AnnData object with n_obs × n_vars = 130557 × 248\n",
       "    obs: 'cell_id', 'x_centroid', 'y_centroid', 'transcript_counts', 'control_probe_counts', 'control_codeword_counts', 'total_counts', 'cell_area', 'nucleus_area', 'n_counts'\n",
       "    var: 'gene_ids', 'feature_types', 'genome', 'n_cells'\n",
       "    uns: 'log1p'\n",
       "    obsm: 'spatial'\n",
       "    layers: 'count'"
      ]
     },
     "execution_count": 3,
     "metadata": {},
     "output_type": "execute_result"
    }
   ],
   "source": [
    "# QC\n",
    "sc.pp.filter_cells(adata, min_counts=10)\n",
    "sc.pp.filter_genes(adata, min_cells=5)\n",
    "# Normalization\n",
    "adata.layers['count'] = adata.X.copy()\n",
    "sc.pp.normalize_total(adata, target_sum=1e4)\n",
    "sc.pp.log1p(adata)\n",
    "adata"
   ]
  },
  {
   "cell_type": "code",
   "execution_count": 4,
   "metadata": {},
   "outputs": [
    {
     "name": "stdout",
     "output_type": "stream",
     "text": [
      "KDTree knn innitialize.\n",
      "FP\n",
      "The Data contians 130557 voxels.\n"
     ]
    }
   ],
   "source": [
    "stgraph = STGraph.graphFromAnndata(adata=adata, \n",
    "                                   knn=True,  # Directly initializing knn for non-lattice data.\n",
    "                                   kdtree=True,\n",
    "                                   k=10)\n",
    "gdata = stgraph.topyg()\n",
    "print(f\"The Data contians {gdata.x.size(0)} voxels.\")"
   ]
  },
  {
   "cell_type": "code",
   "execution_count": 5,
   "metadata": {},
   "outputs": [
    {
     "data": {
      "text/plain": [
       "<STForte._model.STForteModel at 0x14fd47cb5a30>"
      ]
     },
     "execution_count": 5,
     "metadata": {},
     "output_type": "execute_result"
    }
   ],
   "source": [
    "model = STForteModel(adata=adata, gdata=gdata,\n",
    "                     epochs=500,\n",
    "                     output_dir='./{:s}/pl_ckpts/'.format(trial_name),\n",
    "                     module_kwargs=dict(partial_adjacent=True))\n",
    "model"
   ]
  },
  {
   "cell_type": "code",
   "execution_count": 6,
   "metadata": {},
   "outputs": [
    {
     "name": "stderr",
     "output_type": "stream",
     "text": [
      "Global seed set to 42\n",
      "/home/poncey/miniconda3/envs/stforte_env/lib/python3.9/site-packages/pytorch_lightning/trainer/connectors/accelerator_connector.py:474: LightningDeprecationWarning: Setting `Trainer(gpus=1)` is deprecated in v1.7 and will be removed in v2.0. Please use `Trainer(accelerator='gpu', devices=1)` instead.\n",
      "  rank_zero_deprecation(\n",
      "GPU available: True (cuda), used: True\n",
      "TPU available: False, using: 0 TPU cores\n",
      "IPU available: False, using: 0 IPUs\n",
      "HPU available: False, using: 0 HPUs\n",
      "Missing logger folder: trial-mouse_brain_coronal_Xenium_raw/pl_ckpts/lightning_logs\n",
      "LOCAL_RANK: 0 - CUDA_VISIBLE_DEVICES: [0,1]\n",
      "\n",
      "  | Name          | Type              | Params\n",
      "----------------------------------------------------\n",
      "0 | attr_encoder  | Sequential        | 61.5 K\n",
      "1 | strc_encoder  | Sequential_b837d5 | 61.5 K\n",
      "2 | attr_decoder  | Sequential        | 61.7 K\n",
      "3 | strc_decoder  | Sequential        | 2.1 K \n",
      "4 | discriminator | Sequential        | 1.1 K \n",
      "----------------------------------------------------\n",
      "187 K     Trainable params\n",
      "0         Non-trainable params\n",
      "187 K     Total params\n",
      "0.751     Total estimated model params size (MB)\n",
      "/home/poncey/miniconda3/envs/stforte_env/lib/python3.9/site-packages/pytorch_lightning/trainer/connectors/data_connector.py:224: PossibleUserWarning: The dataloader, train_dataloader, does not have many workers which may be a bottleneck. Consider increasing the value of the `num_workers` argument` (try 64 which is the number of cpus on this machine) in the `DataLoader` init to improve performance.\n",
      "  rank_zero_warn(\n"
     ]
    },
    {
     "data": {
      "application/vnd.jupyter.widget-view+json": {
       "model_id": "e6805d0125904da9a130b8b46baff98b",
       "version_major": 2,
       "version_minor": 0
      },
      "text/plain": [
       "Training: 0it [00:00, ?it/s]"
      ]
     },
     "metadata": {},
     "output_type": "display_data"
    },
    {
     "name": "stderr",
     "output_type": "stream",
     "text": [
      "`Trainer.fit` stopped: `max_epochs=500` reached.\n"
     ]
    }
   ],
   "source": [
    "model.fit()"
   ]
  },
  {
   "cell_type": "code",
   "execution_count": 7,
   "metadata": {},
   "outputs": [],
   "source": [
    "if not os.path.exists(f\"{trial_name}/data\"):\n",
    "    os.makedirs(f\"{trial_name}/data\")\n",
    "save_gdata(gdata, path=f\"{trial_name}/data/gdata.pkl\")\n",
    "adata.write_h5ad(f\"{trial_name}/data/trial.h5ad\")\n",
    "model.save_state_dict(f'./{trial_name}/models/', alias=\"STForteModel_mouse_brain_xenium\")"
   ]
  },
  {
   "cell_type": "code",
   "execution_count": 8,
   "metadata": {},
   "outputs": [],
   "source": [
    "# For analysis in original resolution\n",
    "model.get_latent_original(adata)\n",
    "if not os.path.exists(f\"./{trial_name}/outputs\"):\n",
    "    os.makedirs(f\"./{trial_name}/outputs\")\n",
    "adata.write(f\"./{trial_name}/outputs/stforte.h5ad\")"
   ]
  },
  {
   "cell_type": "code",
   "execution_count": null,
   "metadata": {},
   "outputs": [],
   "source": []
  }
 ],
 "metadata": {
  "kernelspec": {
   "display_name": "stforte_env",
   "language": "python",
   "name": "python3"
  },
  "language_info": {
   "codemirror_mode": {
    "name": "ipython",
    "version": 3
   },
   "file_extension": ".py",
   "mimetype": "text/x-python",
   "name": "python",
   "nbconvert_exporter": "python",
   "pygments_lexer": "ipython3",
   "version": "3.9.16"
  },
  "orig_nbformat": 4
 },
 "nbformat": 4,
 "nbformat_minor": 2
}
