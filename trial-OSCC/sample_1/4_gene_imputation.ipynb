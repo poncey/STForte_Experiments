{
 "cells": [
  {
   "cell_type": "code",
   "execution_count": null,
   "metadata": {},
   "outputs": [],
   "source": [
    "import os\n",
    "os.chdir(path='../..')\n",
    "import numpy as np\n",
    "import scanpy as sc\n",
    "import seaborn as sns\n",
    "import plotly.express as px\n",
    "import matplotlib.pyplot as plt\n",
    "import STForte.helper as stfhelper\n",
    "sc.set_figure_params(dpi=120, transparent=True, dpi_save=400, frameon=False, vector_friendly=False, format=\"pdf\", fontsize=16)\n",
    "trial_name = \"trial-OSCC/sample_1\"\n",
    "palette = px.colors.qualitative.Plotly\n",
    "plot_dir = f\"./{trial_name}/plots\"\n",
    "sc.settings.figdir = plot_dir\n",
    "plt.rcParams['font.sans-serif'] = [\n",
    "    'Helvetica',\n",
    "    'Arial',\n",
    "    'sans-serif',]\n",
    "palette_seq = stfhelper.pl.hex2rgb(px.colors.sequential.Viridis)\n",
    "palette_seq = stfhelper.pl.create_refined_colormap(palette_seq)"
   ]
  },
  {
   "cell_type": "code",
   "execution_count": null,
   "metadata": {},
   "outputs": [],
   "source": [
    "adata = sc.read_h5ad(f\"./{trial_name}/outputs/stforte.h5ad\")\n",
    "adata"
   ]
  },
  {
   "cell_type": "code",
   "execution_count": null,
   "metadata": {},
   "outputs": [],
   "source": [
    "STForte_pred = adata.obs['louvain'].to_numpy()\n",
    "STForte_pred[STForte_pred!='2'] = 'Normal tissue (STForte)'\n",
    "STForte_pred[STForte_pred=='2'] = 'SCC (STForte)'\n",
    "pathologist_anno = adata.obs['pathologist_anno.x'].to_numpy()\n",
    "pathologist_anno[pathologist_anno!='SCC'] = 'Normal tissue'\n",
    "adata.obs['STForte_anno'] = STForte_pred\n",
    "adata.obs['pathologist_anno'] = pathologist_anno\n",
    "adata.obs['STForte_anno'] = adata.obs['STForte_anno'].astype('category').cat.reorder_categories(['Normal tissue (STForte)','SCC (STForte)'])\n",
    "adata.obs['pathologist_anno'] = adata.obs['pathologist_anno'].astype('category').cat.reorder_categories(['Normal tissue','SCC'])"
   ]
  },
  {
   "cell_type": "code",
   "execution_count": null,
   "metadata": {},
   "outputs": [],
   "source": [
    "adata_sp = sc.read_h5ad(f\"./{trial_name}/outputs/sp.h5ad\")\n",
    "adata_sp.uns = adata.uns\n",
    "adata_sp"
   ]
  },
  {
   "cell_type": "code",
   "execution_count": null,
   "metadata": {},
   "outputs": [],
   "source": [
    "sc.pp.normalize_total(adata, target_sum=1e4)\n",
    "sc.pp.log1p(adata)\n",
    "sc.pp.highly_variable_genes(adata, flavor=\"seurat_v3\", n_top_genes=3000)"
   ]
  },
  {
   "cell_type": "code",
   "execution_count": null,
   "metadata": {},
   "outputs": [],
   "source": [
    "gene_names = np.array(adata.var.index)[adata.var['highly_variable_rank']<4]\n",
    "# gene_names = np.array(['S100A7','S100A8','S100A9','IGKC'])\n",
    "sc.pl.violin(\n",
    "    adata, keys=gene_names, \n",
    "    groupby=\"pathologist_anno\",\n",
    "    palette=palette, \n",
    "    xlabel=\"\",\n",
    "    \n",
    "    )"
   ]
  },
  {
   "cell_type": "code",
   "execution_count": null,
   "metadata": {},
   "outputs": [],
   "source": [
    "import plotly.graph_objects as go\n",
    "idxs = [adata.var.index==gene for gene in gene_names]\n",
    "idx = sum(idxs)\n",
    "x = adata.X.A[:,idx.astype('bool')].T.reshape(-1)\n",
    "y = gene_names.reshape(-1,1).repeat(len(adata),axis=1).reshape(-1)\n",
    "z = adata.obs['pathologist_anno'].to_numpy().reshape(1,-1).repeat(4,axis=0).reshape(-1)\n",
    "\n",
    "group = adata.obs['STForte_anno']\n",
    "fig = go.Figure()\n",
    "fig.add_trace(go.Box(\n",
    "    x=x[z=='Normal tissue'],\n",
    "    y=y[z=='Normal tissue'],\n",
    "    name='Normal tissue',\n",
    "    marker_color=palette[0]\n",
    "))\n",
    "fig.add_trace(go.Box(\n",
    "    x=x[z=='SCC'],\n",
    "    y=y[z=='SCC'],\n",
    "    name='SCC',\n",
    "    marker_color=palette[1]\n",
    "))\n",
    "# fig.add_trace(go.Box(\n",
    "#     x=adata.X.A[:,adata.var.index=='S100A7'].reshape(-1),\n",
    "#     y=group,\n",
    "#     name='S100A7',\n",
    "#     marker_color=palette[2]\n",
    "# ))\n",
    "# fig.add_trace(go.Box(\n",
    "#     x=adata.X.A[:,adata.var.index=='IGKC'].reshape(-1),\n",
    "#     y=group,\n",
    "#     name='IGKC',\n",
    "#     marker_color=palette[3]\n",
    "# ))\n",
    "fig.update_layout(\n",
    "    xaxis=dict(title='', zeroline=False),\n",
    "    boxmode='group'\n",
    ")\n",
    "\n",
    "fig.update_traces(orientation='h') # horizontal box plots\n",
    "fig.write_image(f\"./{trial_name}/plots/select_gene.pdf\")\n",
    "fig.show()"
   ]
  },
  {
   "cell_type": "code",
   "execution_count": null,
   "metadata": {},
   "outputs": [],
   "source": [
    "marker_palette = dict(map(lambda k, v: (k, v), adata.obs[\"pathologist_anno.x\"].cat.categories.astype(str), adata.uns['pathologist_anno.x_colors']))\n",
    "# adata.obs[\"pathologist_anno_temp\"] = adata.obs['pathologist_anno.x'].cat.reorder_categories([1,2,3,4]).cat.rename_categories(lambda i : str(i))\n",
    "fig = stfhelper.pl.plot_trend_genes(adata, gene_names, \n",
    "                                    group=\"pathologist_anno.x\",\n",
    "                                    marker_palette=marker_palette,\n",
    "                                    line_color=\"#333333\")\n",
    "fig.update_layout(\n",
    "    paper_bgcolor='rgba(0,0,0,0)',\n",
    "    plot_bgcolor=\"#F8F8FF\",\n",
    "    title=None,\n",
    "    template='plotly_white', width=220, height=500, \n",
    "    showlegend=False,)\n",
    "fig.update_layout(margin=dict(l=16, r=2, b=2, t=16, pad=2),\n",
    "                  font_family=\"Arial\", font_size=16)\n",
    "fig.update_yaxes(title_font_size=14)\n",
    "for ii in range(len(gene_names)):\n",
    "    if ii != len(gene_names) - 1:\n",
    "        fig.update_xaxes(tickson=\"boundaries\",row=ii+1, col=1)\n",
    "    else:    \n",
    "        fig.update_xaxes(ticks=\"outside\", tickson=\"boundaries\", ticklen=10, tickcolor=\"#aaaaaa\",row=8, col=1)\n",
    "fig.write_image(f\"./{trial_name}/plots/trend_markergene.pdf\")\n",
    "fig.show()"
   ]
  },
  {
   "cell_type": "code",
   "execution_count": null,
   "metadata": {},
   "outputs": [],
   "source": [
    "sp_exp = stfhelper.complete_unseen_expression(\n",
    "    adata_sp, gene_names, adata, 'SP_TOPO'\n",
    ")"
   ]
  },
  {
   "cell_type": "code",
   "execution_count": null,
   "metadata": {},
   "outputs": [],
   "source": [
    "sc.pl.spatial(\n",
    "    adata,color=gene_names,\n",
    "    color_map=palette_seq,s=13, vmin=0,vmax=7,\n",
    "    save=\"Gene_unpaded.pdf\",bw=True)\n",
    "sc.pl.spatial(\n",
    "    adata_sp,color=[i + '_with_padding' for i in gene_names],\n",
    "    color_map=palette_seq,s=6, vmin=0,vmax=7,\n",
    "    save=\"Gene_STForte_padding.pdf\",bw=True)"
   ]
  },
  {
   "cell_type": "code",
   "execution_count": null,
   "metadata": {},
   "outputs": [],
   "source": []
  }
 ],
 "metadata": {
  "kernelspec": {
   "display_name": "stforte",
   "language": "python",
   "name": "python3"
  },
  "language_info": {
   "codemirror_mode": {
    "name": "ipython",
    "version": 3
   },
   "file_extension": ".py",
   "mimetype": "text/x-python",
   "name": "python",
   "nbconvert_exporter": "python",
   "pygments_lexer": "ipython3",
   "version": "3.9.16"
  },
  "orig_nbformat": 4
 },
 "nbformat": 4,
 "nbformat_minor": 2
}
