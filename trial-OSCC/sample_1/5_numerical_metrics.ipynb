{
 "cells": [
  {
   "cell_type": "code",
   "execution_count": 1,
   "metadata": {},
   "outputs": [
    {
     "name": "stderr",
     "output_type": "stream",
     "text": [
      "/home/wcx99075523/miniconda3/envs/stforte/lib/python3.9/site-packages/scipy/__init__.py:146: UserWarning: A NumPy version >=1.17.3 and <1.25.0 is required for this version of SciPy (detected version 1.26.2\n",
      "  warnings.warn(f\"A NumPy version >={np_minversion} and <{np_maxversion}\"\n",
      "Global seed set to 0\n"
     ]
    }
   ],
   "source": [
    "import os\n",
    "os.chdir(path='../..')\n",
    "import numpy as np\n",
    "import pandas as pd\n",
    "import scanpy as sc\n",
    "import seaborn as sns\n",
    "import plotly.express as px\n",
    "import matplotlib.pyplot as plt\n",
    "import STForte.helper as stfhelper\n",
    "\n",
    "sc.set_figure_params(dpi=120, transparent=True, dpi_save=400, frameon=False, vector_friendly=False, format=\"pdf\", fontsize=16)\n",
    "trial_name = \"trial-OSCC/sample_1\"\n",
    "palette = px.colors.qualitative.Plotly\n",
    "plot_dir = f\"./{trial_name}/plots\"\n",
    "sc.settings.figdir = plot_dir\n",
    "plt.rcParams['font.sans-serif'] = [\n",
    "    'Helvetica',\n",
    "    'Arial',\n",
    "    'sans-serif',]"
   ]
  },
  {
   "cell_type": "code",
   "execution_count": 2,
   "metadata": {},
   "outputs": [
    {
     "data": {
      "text/plain": [
       "AnnData object with n_obs × n_vars = 1131 × 15844\n",
       "    obs: 'pathologist_anno.x', 'sample_id.x', 'cluster_annotations', 'in_tissue', 'row', 'col', 'x', 'y', 'STForte_Mask', 'louvain', 'STForte_anno', 'pathologist_anno'\n",
       "    uns: 'STForte_anno_colors', 'louvain', 'louvain_colors', 'neighbors', 'pathologist_anno.x_colors', 'pathologist_anno_colors', 'spatial', 'umap'\n",
       "    obsm: 'STForte_ATTR', 'STForte_COMB', 'STForte_TOPO', 'X_umap', 'spatial'\n",
       "    layers: 'processed'\n",
       "    obsp: 'connectivities', 'distances'"
      ]
     },
     "execution_count": 2,
     "metadata": {},
     "output_type": "execute_result"
    }
   ],
   "source": [
    "adata = sc.read_h5ad(f\"./{trial_name}/outputs/stforte.h5ad\")\n",
    "adata"
   ]
  },
  {
   "cell_type": "code",
   "execution_count": 3,
   "metadata": {},
   "outputs": [
    {
     "data": {
      "text/plain": [
       "AnnData object with n_obs × n_vars = 4097 × 300\n",
       "    obs: 'spot_instance', 'STForte_anno_with_padding'\n",
       "    uns: 'STForte_anno_colors', 'louvain', 'louvain_colors', 'neighbors', 'pathologist_anno.x_colors', 'pathologist_anno_colors', 'spatial', 'umap'\n",
       "    obsm: 'SP_ATTR_FP', 'SP_COMB', 'SP_TOPO', 'X_umap', 'spatial'\n",
       "    obsp: 'A_STForte_conn', 'A_STForte_recon', 'connectivities', 'distances'"
      ]
     },
     "execution_count": 3,
     "metadata": {},
     "output_type": "execute_result"
    }
   ],
   "source": [
    "adata_sp = sc.read_h5ad(f\"./{trial_name}/outputs/sp.h5ad\")\n",
    "adata_sp.uns = adata.uns\n",
    "adata_sp"
   ]
  },
  {
   "cell_type": "code",
   "execution_count": 4,
   "metadata": {},
   "outputs": [
    {
     "data": {
      "text/plain": [
       "(array([0.83470796, 0.83599796, 0.80425113, 0.32782528]),\n",
       " array([48.48216242, 48.55701817, 46.71507824, 19.07232312]),\n",
       " array([0., 0., 0., 0.]))"
      ]
     },
     "execution_count": 4,
     "metadata": {},
     "output_type": "execute_result"
    }
   ],
   "source": [
    "gene_names = ['S100A9','S100A8','S100A7','IGKC']\n",
    "morans_i, z_score, p_value = stfhelper.Morans_I(adata[:,gene_names].X.A, adata.obsm['spatial'],k=6)\n",
    "morans_i, z_score, p_value"
   ]
  },
  {
   "cell_type": "code",
   "execution_count": 5,
   "metadata": {},
   "outputs": [],
   "source": [
    "morans_origin = pd.DataFrame(\n",
    "    data=dict(samples=['sample_1']*4,genes=gene_names,morans_i=morans_i,z_score=z_score,p_value=p_value)\n",
    ")\n",
    "morans_origin.to_csv(f\"trial-OSCC/numerical_reasults/morans_origin.csv\",mode='a',index=False,header=False)"
   ]
  },
  {
   "cell_type": "code",
   "execution_count": 6,
   "metadata": {},
   "outputs": [
    {
     "data": {
      "application/vnd.jupyter.widget-view+json": {
       "model_id": "60ec81fbb3dc456f822a5b9cc53381a7",
       "version_major": 2,
       "version_minor": 0
      },
      "text/plain": [
       "Propagating genes...:   0%|          | 0/4 [00:00<?, ?it/s]"
      ]
     },
     "metadata": {},
     "output_type": "display_data"
    }
   ],
   "source": [
    "sp_exp = stfhelper.complete_unseen_expression(\n",
    "    adata_sp, gene_names, adata, 'SP_TOPO'\n",
    ")"
   ]
  },
  {
   "cell_type": "code",
   "execution_count": 7,
   "metadata": {},
   "outputs": [
    {
     "data": {
      "text/plain": [
       "(array([0.94019237, 0.94545366, 0.92835989, 0.74400044]),\n",
       " array([103.9977948 , 104.57961099, 102.68931337,  82.30202856]),\n",
       " array([0., 0., 0., 0.]))"
      ]
     },
     "execution_count": 7,
     "metadata": {},
     "output_type": "execute_result"
    }
   ],
   "source": [
    "pad_names = [i + '_with_padding' for i in gene_names]\n",
    "morans_i, z_score, p_value = stfhelper.Morans_I(adata_sp.obs[pad_names].to_numpy(), adata_sp.obsm['spatial'],k=6)\n",
    "morans_i, z_score, p_value"
   ]
  },
  {
   "cell_type": "code",
   "execution_count": 8,
   "metadata": {},
   "outputs": [],
   "source": [
    "morans_stforte = pd.DataFrame(\n",
    "    data=dict(samples=['sample_1']*4,genes=gene_names,morans_i=morans_i,z_score=z_score,p_value=p_value)\n",
    ")\n",
    "morans_stforte.to_csv(f\"trial-OSCC/numerical_reasults/morans_STforte.csv\",mode='a',index=False,header=False)"
   ]
  },
  {
   "cell_type": "code",
   "execution_count": null,
   "metadata": {},
   "outputs": [],
   "source": []
  }
 ],
 "metadata": {
  "kernelspec": {
   "display_name": "stforte",
   "language": "python",
   "name": "python3"
  },
  "language_info": {
   "codemirror_mode": {
    "name": "ipython",
    "version": 3
   },
   "file_extension": ".py",
   "mimetype": "text/x-python",
   "name": "python",
   "nbconvert_exporter": "python",
   "pygments_lexer": "ipython3",
   "version": "3.9.16"
  }
 },
 "nbformat": 4,
 "nbformat_minor": 2
}
