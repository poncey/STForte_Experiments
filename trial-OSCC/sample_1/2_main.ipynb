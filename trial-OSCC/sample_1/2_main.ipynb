{
 "cells": [
  {
   "cell_type": "code",
   "execution_count": 1,
   "metadata": {},
   "outputs": [
    {
     "name": "stderr",
     "output_type": "stream",
     "text": [
      "/home/wcx99075523/miniconda3/envs/stforte/lib/python3.9/site-packages/scipy/__init__.py:146: UserWarning: A NumPy version >=1.17.3 and <1.25.0 is required for this version of SciPy (detected version 1.25.0\n",
      "  warnings.warn(f\"A NumPy version >={np_minversion} and <{np_maxversion}\"\n",
      "Global seed set to 0\n"
     ]
    }
   ],
   "source": [
    "import os\n",
    "os.chdir(path='../..')\n",
    "import scanpy as sc\n",
    "import plotly.express as px\n",
    "from STForte import STGraph\n",
    "from STForte import STForteModel\n",
    "from STForte.helper import save_gdata\n",
    "trial_name = \"trial-OSCC/sample_1/\"\n",
    "color_pallette = px.colors.qualitative.Plotly"
   ]
  },
  {
   "cell_type": "code",
   "execution_count": 2,
   "metadata": {},
   "outputs": [
    {
     "data": {
      "text/plain": [
       "AnnData object with n_obs × n_vars = 1131 × 15844\n",
       "    obs: 'pathologist_anno.x', 'sample_id.x', 'cluster_annotations', 'in_tissue', 'row', 'col', 'x', 'y'\n",
       "    uns: 'pathologist_anno.x_colors', 'spatial'\n",
       "    obsm: 'spatial'\n",
       "    layers: 'processed'"
      ]
     },
     "execution_count": 2,
     "metadata": {},
     "output_type": "execute_result"
    }
   ],
   "source": [
    "adata = sc.read_h5ad(f'data/OSCC/sample_1/sample_1_preprocessed.h5ad')\n",
    "adata"
   ]
  },
  {
   "cell_type": "code",
   "execution_count": 3,
   "metadata": {},
   "outputs": [
    {
     "data": {
      "application/vnd.jupyter.widget-view+json": {
       "model_id": "baf94aa37c7f4657b638d83572f29ef9",
       "version_major": 2,
       "version_minor": 0
      },
      "text/plain": [
       "d-based initialize:   0%|          | 0/1131 [00:00<?, ?it/s]"
      ]
     },
     "metadata": {},
     "output_type": "display_data"
    },
    {
     "name": "stdout",
     "output_type": "stream",
     "text": [
      "PCA pre-compression for data, from 15840 onto 300-dim.\n",
      "Scaling data: None; SVD solver: full; random_state=42.\n",
      "Start compression...\tDone! Elapsed time: 7.35s.\n"
     ]
    },
    {
     "data": {
      "application/vnd.jupyter.widget-view+json": {
       "model_id": "7909da735739422ba0bfd9853a27704b",
       "version_major": 2,
       "version_minor": 0
      },
      "text/plain": [
       "brute-force knn initialize:   0%|          | 0/4097 [00:00<?, ?it/s]"
      ]
     },
     "metadata": {},
     "output_type": "display_data"
    },
    {
     "name": "stdout",
     "output_type": "stream",
     "text": [
      "FP\n"
     ]
    }
   ],
   "source": [
    "d = adata.uns['spatial']['stomic']['scalefactors']['fiducial_diameter_fullres']\n",
    "stgraph = STGraph.graphFromAnndata(\n",
    "    adata=adata,\n",
    "    d=d,\n",
    "    )\n",
    "stgraph.pca()\n",
    "stgraph.padding(reconstruct_knn=True, reconstruct_k=18)\n",
    "gdata = stgraph.topyg()"
   ]
  },
  {
   "cell_type": "code",
   "execution_count": 4,
   "metadata": {},
   "outputs": [
    {
     "name": "stderr",
     "output_type": "stream",
     "text": [
      "Global seed set to 42\n",
      "/home/wcx99075523/miniconda3/envs/stforte/lib/python3.9/site-packages/pytorch_lightning/trainer/connectors/accelerator_connector.py:478: LightningDeprecationWarning: Setting `Trainer(gpus=1)` is deprecated in v1.7 and will be removed in v2.0. Please use `Trainer(accelerator='gpu', devices=1)` instead.\n",
      "  rank_zero_deprecation(\n",
      "GPU available: True (cuda), used: True\n",
      "TPU available: False, using: 0 TPU cores\n",
      "IPU available: False, using: 0 IPUs\n",
      "HPU available: False, using: 0 HPUs\n",
      "LOCAL_RANK: 0 - CUDA_VISIBLE_DEVICES: [0]\n",
      "\n",
      "  | Name          | Type              | Params\n",
      "----------------------------------------------------\n",
      "0 | attr_encoder  | Sequential        | 71.9 K\n",
      "1 | strc_encoder  | Sequential_8feaec | 36.8 K\n",
      "2 | attr_decoder  | Sequential        | 72.2 K\n",
      "3 | strc_decoder  | Sequential        | 2.1 K \n",
      "4 | discriminator | Sequential        | 1.1 K \n",
      "----------------------------------------------------\n",
      "184 K     Trainable params\n",
      "0         Non-trainable params\n",
      "184 K     Total params\n",
      "0.736     Total estimated model params size (MB)\n",
      "/home/wcx99075523/miniconda3/envs/stforte/lib/python3.9/site-packages/pytorch_lightning/trainer/connectors/data_connector.py:224: PossibleUserWarning: The dataloader, train_dataloader, does not have many workers which may be a bottleneck. Consider increasing the value of the `num_workers` argument` (try 16 which is the number of cpus on this machine) in the `DataLoader` init to improve performance.\n",
      "  rank_zero_warn(\n"
     ]
    },
    {
     "data": {
      "application/vnd.jupyter.widget-view+json": {
       "model_id": "50e9e8916d63440da4a09818cae2f0db",
       "version_major": 2,
       "version_minor": 0
      },
      "text/plain": [
       "Training: 0it [00:00, ?it/s]"
      ]
     },
     "metadata": {},
     "output_type": "display_data"
    },
    {
     "name": "stderr",
     "output_type": "stream",
     "text": [
      "`Trainer.fit` stopped: `max_epochs=450` reached.\n"
     ]
    }
   ],
   "source": [
    "model = STForteModel(adata=adata, gdata=gdata,\n",
    "                    output_dir='./{:s}/pl_ckpts/'.format(trial_name),\n",
    "                    module_kwargs=dict(hidden_gcns=[100, 50], lmbd_cross=1))\n",
    "model.fit()"
   ]
  },
  {
   "cell_type": "code",
   "execution_count": 5,
   "metadata": {},
   "outputs": [],
   "source": [
    "if not os.path.exists(f\"{trial_name}/data\"):\n",
    "    os.makedirs(f\"{trial_name}/data\")\n",
    "save_gdata(gdata, path=f\"{trial_name}/data/gdata.pkl\")\n",
    "adata.write_h5ad(f\"{trial_name}/data/trial.h5ad\")\n",
    "model.save_state_dict(f'./{trial_name}/models/')"
   ]
  },
  {
   "cell_type": "code",
   "execution_count": 6,
   "metadata": {},
   "outputs": [],
   "source": [
    "model.get_latent_original(adata)\n",
    "if not os.path.exists(f\"./{trial_name}/outputs\"):\n",
    "    os.makedirs(f\"./{trial_name}/outputs\")\n",
    "adata.write(f\"./{trial_name}/outputs/stforte.h5ad\")\n",
    "# For analysis in padding resolution\n",
    "adata_sp = model.get_result_anndata()\n",
    "adata_sp.write_h5ad(\"./{:s}/outputs/sp.h5ad\".format(trial_name))"
   ]
  }
 ],
 "metadata": {
  "kernelspec": {
   "display_name": "stforte",
   "language": "python",
   "name": "python3"
  },
  "language_info": {
   "codemirror_mode": {
    "name": "ipython",
    "version": 3
   },
   "file_extension": ".py",
   "mimetype": "text/x-python",
   "name": "python",
   "nbconvert_exporter": "python",
   "pygments_lexer": "ipython3",
   "version": "3.9.16"
  },
  "orig_nbformat": 4
 },
 "nbformat": 4,
 "nbformat_minor": 2
}
