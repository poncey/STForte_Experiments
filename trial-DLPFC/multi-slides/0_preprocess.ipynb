{
 "cells": [
  {
   "cell_type": "code",
   "execution_count": 1,
   "metadata": {},
   "outputs": [
    {
     "name": "stderr",
     "output_type": "stream",
     "text": [
      "/home/wcx99075523/miniconda3/envs/stforte/lib/python3.9/site-packages/scipy/__init__.py:146: UserWarning: A NumPy version >=1.17.3 and <1.25.0 is required for this version of SciPy (detected version 1.25.0\n",
      "  warnings.warn(f\"A NumPy version >={np_minversion} and <{np_maxversion}\"\n"
     ]
    }
   ],
   "source": [
    "import numpy as np\n",
    "import pandas as pd\n",
    "import scanpy as sc"
   ]
  },
  {
   "cell_type": "code",
   "execution_count": 2,
   "metadata": {},
   "outputs": [],
   "source": [
    "groups = [['151507', '151508', '151509', '151510'], \n",
    "          ['151669', '151670', '151671', '151672'],\n",
    "          ['151673', '151674', '151675', '151676']]\n",
    "data_path = \"/home/wcx99075523/Experiments/STForte/data/DLPFC/\"\n",
    "\n",
    "for group in groups:\n",
    "    adata_list = []\n",
    "    uns_dict = dict()\n",
    "    for i in range(4):\n",
    "        adata = sc.read_h5ad(f\"{data_path}{group[i]}_10xvisium.h5ad\")\n",
    "        d = adata.uns['spatial']['stomic']['scalefactors']['fiducial_diameter_fullres']\n",
    "        adata.obs['section_id'] = i\n",
    "        adata.obsm['spatial'] = np.concatenate([adata.obsm['spatial'], np.repeat(d*i, len(adata)).reshape(-1,1)], axis=1)\n",
    "        adata.obs_names = [t + f\"_{i}\" for t in adata.obs_names]\n",
    "        adata_list.append(adata)\n",
    "        uns_dict[group[i]] = adata.uns \n",
    "    adata = sc.concat(adata_list)\n",
    "    adata.uns = uns_dict\n",
    "    adata.write(f\"/home/wcx99075523/Experiments/stforte/trial-DLPFC-pca/multi_slides/data/adata_{group[0]}_{group[-1]}.h5ad\")"
   ]
  },
  {
   "cell_type": "code",
   "execution_count": null,
   "metadata": {},
   "outputs": [],
   "source": []
  }
 ],
 "metadata": {
  "kernelspec": {
   "display_name": "stforte",
   "language": "python",
   "name": "python3"
  },
  "language_info": {
   "codemirror_mode": {
    "name": "ipython",
    "version": 3
   },
   "file_extension": ".py",
   "mimetype": "text/x-python",
   "name": "python",
   "nbconvert_exporter": "python",
   "pygments_lexer": "ipython3",
   "version": "3.9.16"
  }
 },
 "nbformat": 4,
 "nbformat_minor": 2
}
