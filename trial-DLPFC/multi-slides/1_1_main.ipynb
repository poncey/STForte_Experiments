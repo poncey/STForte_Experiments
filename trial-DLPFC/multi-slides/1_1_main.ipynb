{
 "cells": [
  {
   "cell_type": "code",
   "execution_count": 1,
   "metadata": {},
   "outputs": [
    {
     "name": "stderr",
     "output_type": "stream",
     "text": [
      "/home/wcx99075523/miniconda3/envs/stforte/lib/python3.9/site-packages/pytorch_lightning/utilities/seed.py:47: LightningDeprecationWarning: `pytorch_lightning.utilities.seed.seed_everything` has been deprecated in v1.8.0 and will be removed in v2.0.0. Please use `lightning_fabric.utilities.seed.seed_everything` instead.\n",
      "  rank_zero_deprecation(\n",
      "Global seed set to 0\n"
     ]
    }
   ],
   "source": [
    "import os\n",
    "os.chdir(path='../../')\n",
    "import numpy as np\n",
    "import scanpy as sc\n",
    "from STForte import STGraph\n",
    "from STForte import STForteModel\n",
    "from STForte.helper import save_gdata\n",
    "from STForte.helper import annotation_propagate\n",
    "trial_name = \"trial-DLPFC/multi_slides\"\n",
    "data_name = \"adata_673_676_paste2\""
   ]
  },
  {
   "cell_type": "code",
   "execution_count": 2,
   "metadata": {},
   "outputs": [
    {
     "name": "stderr",
     "output_type": "stream",
     "text": [
      "/home/wcx99075523/miniconda3/envs/stforte/lib/python3.9/site-packages/anndata/_core/anndata.py:1897: UserWarning: Observation names are not unique. To make them unique, call `.obs_names_make_unique`.\n",
      "  utils.warn_names_duplicates(\"obs\")\n"
     ]
    },
    {
     "data": {
      "text/plain": [
       "AnnData object with n_obs × n_vars = 14364 × 33538\n",
       "    obs: 'in_tissue', 'array_row', 'array_col', 'spatialLIBD', 'section_id'\n",
       "    uns: '151673', '151674', '151675', '151676'\n",
       "    obsm: 'spatial'"
      ]
     },
     "execution_count": 2,
     "metadata": {},
     "output_type": "execute_result"
    }
   ],
   "source": [
    "adata = sc.read_h5ad(filename=f\"{trial_name}/data/{data_name}.h5ad\")\n",
    "adata.obs['section_id'] = adata.obs['section_id'].astype(\"str\").astype(\"category\")\n",
    "adata"
   ]
  },
  {
   "cell_type": "code",
   "execution_count": 3,
   "metadata": {},
   "outputs": [
    {
     "data": {
      "text/plain": [
       "View of AnnData object with n_obs × n_vars = 14364 × 24155\n",
       "    obs: 'in_tissue', 'array_row', 'array_col', 'spatialLIBD', 'section_id'\n",
       "    uns: '151673', '151674', '151675', '151676', 'log1p'\n",
       "    obsm: 'spatial'\n",
       "    layers: 'log1p'"
      ]
     },
     "execution_count": 3,
     "metadata": {},
     "output_type": "execute_result"
    }
   ],
   "source": [
    "adata.layers[\"log1p\"] = adata.X.copy()\n",
    "sc.pp.normalize_total(adata, target_sum=1e4, layer=\"log1p\")\n",
    "sc.pp.log1p(adata, layer=\"log1p\")\n",
    "adata = adata[:,adata.X.sum(axis=0)!=0]\n",
    "# sc.pp.highly_variable_genes(adata, n_top_genes=3000, batch_key=\"section_id\", layer=\"log1p\", inplace=True, subset=True)\n",
    "adata"
   ]
  },
  {
   "cell_type": "code",
   "execution_count": 4,
   "metadata": {},
   "outputs": [],
   "source": [
    "# sc.pp.pca(adata, n_comps=300)\n",
    "# sc.external.pp.harmony_integrate(adata, \"section_id\", adjusted_basis='X_pca_harmony',)\n",
    "# sc.external.pp.scanorama_integrate(adata, \"section_id\", adjusted_basis='X_pca_scanorama')"
   ]
  },
  {
   "cell_type": "code",
   "execution_count": 5,
   "metadata": {},
   "outputs": [
    {
     "name": "stderr",
     "output_type": "stream",
     "text": [
      "/home/wcx99075523/PublishedPackages/STForte_v1/STForte/_data.py:96: UserWarning: 'obs_name' not unique. Please run 'adata.obs_names_make_unique' at first for index security.\n",
      "  warnings.warn(\"'obs_name' not unique. Please run 'adata.obs_names_make_unique' at first for index security.\")\n"
     ]
    },
    {
     "data": {
      "application/vnd.jupyter.widget-view+json": {
       "model_id": "b917dfcd3aaf49e9abfdb208bddc3f56",
       "version_major": 2,
       "version_minor": 0
      },
      "text/plain": [
       "d-based initialize:   0%|          | 0/14364 [00:00<?, ?it/s]"
      ]
     },
     "metadata": {},
     "output_type": "display_data"
    },
    {
     "name": "stdout",
     "output_type": "stream",
     "text": [
      "PCA pre-compression for data, from 24155 onto 300-dim.\n",
      "Scaling data: None; SVD solver: full; random_state=42.\n",
      "Start compression...\tDone! Elapsed time: 518.33s.\n",
      "FP\n"
     ]
    }
   ],
   "source": [
    "d = adata.uns[list(adata.uns.keys())[0]]['spatial']['stomic']['scalefactors']['fiducial_diameter_fullres']\n",
    "stgraph = STGraph.graphFromAnndata(\n",
    "    adata=adata,\n",
    "    # attr_loc=[\"obsm\",\"X_pca_scanorama\"],\n",
    "    d = d \n",
    "    # knn=True,\n",
    "    # k=18*2,\n",
    ")\n",
    "stgraph.pca(n_components=300,svd_solver=\"full\")\n",
    "# stgraph.add_additional_notes(\"section_id\", adata.obs['section_id'].to_numpy())\n",
    "# stgraph.scvi(batch_id=\"section_id\", scvi_kwargs=dict(n_hidden=300, n_latent=256, n_layers=2))\n",
    "gdata = stgraph.topyg()"
   ]
  },
  {
   "cell_type": "code",
   "execution_count": 6,
   "metadata": {},
   "outputs": [],
   "source": [
    "# d = adata.uns[list(adata.uns.keys())[0]]['spatial']['stomic']['scalefactors']['fiducial_diameter_fullres']\n",
    "# stgraph = STGraph.graphFrom3DAnndata(\n",
    "#     adata=adata,\n",
    "#     ordered_section_name=np.arange(4),\n",
    "#     attr_loc=[\"obsm\", \"X_pca_harmony\"],\n",
    "#     # attr_loc=[\"obsm\",'X_pca_scanorama'],\n",
    "#     section_id=['obs', 'section_id'],\n",
    "#     d=d,\n",
    "#     knn=True,\n",
    "#     k=18,\n",
    "#     between_section_k=18,\n",
    "# )\n",
    "# # stgraph.pca(n_components=300)\n",
    "# # stgraph.padding3D()\n",
    "# # stgraph.remove_duplicates(r=0.3)\n",
    "# gdata = stgraph.topyg()"
   ]
  },
  {
   "cell_type": "code",
   "execution_count": 7,
   "metadata": {},
   "outputs": [
    {
     "data": {
      "text/plain": [
       "<STForte._model.STForteModel at 0x7f493b9e3ca0>"
      ]
     },
     "execution_count": 7,
     "metadata": {},
     "output_type": "execute_result"
    }
   ],
   "source": [
    "model = STForteModel(adata=adata, gdata=gdata, epochs=550,\n",
    "                     output_dir='./{:s}/pl_ckpts/'.format(trial_name),\n",
    "                     module_kwargs=dict(\n",
    "                        partial_adjacent=True, lmbd_cross=10, lmbd_gan=4,\n",
    "                        ),\n",
    "                     )\n",
    "model"
   ]
  },
  {
   "cell_type": "code",
   "execution_count": 8,
   "metadata": {},
   "outputs": [
    {
     "name": "stderr",
     "output_type": "stream",
     "text": [
      "Global seed set to 42\n",
      "/home/wcx99075523/miniconda3/envs/stforte/lib/python3.9/site-packages/pytorch_lightning/trainer/connectors/accelerator_connector.py:478: LightningDeprecationWarning: Setting `Trainer(gpus=1)` is deprecated in v1.7 and will be removed in v2.0. Please use `Trainer(accelerator='gpu', devices=1)` instead.\n",
      "  rank_zero_deprecation(\n",
      "GPU available: True (cuda), used: True\n",
      "TPU available: False, using: 0 TPU cores\n",
      "IPU available: False, using: 0 IPUs\n",
      "HPU available: False, using: 0 HPUs\n",
      "LOCAL_RANK: 0 - CUDA_VISIBLE_DEVICES: [0]\n",
      "\n",
      "  | Name          | Type              | Params\n",
      "----------------------------------------------------\n",
      "0 | attr_encoder  | Sequential        | 71.9 K\n",
      "1 | strc_encoder  | Sequential_2ba8ea | 71.9 K\n",
      "2 | attr_decoder  | Sequential        | 72.2 K\n",
      "3 | strc_decoder  | Sequential        | 2.1 K \n",
      "4 | discriminator | Sequential        | 1.1 K \n",
      "----------------------------------------------------\n",
      "219 K     Trainable params\n",
      "0         Non-trainable params\n",
      "219 K     Total params\n",
      "0.877     Total estimated model params size (MB)\n",
      "/home/wcx99075523/miniconda3/envs/stforte/lib/python3.9/site-packages/pytorch_lightning/trainer/connectors/data_connector.py:224: PossibleUserWarning: The dataloader, train_dataloader, does not have many workers which may be a bottleneck. Consider increasing the value of the `num_workers` argument` (try 24 which is the number of cpus on this machine) in the `DataLoader` init to improve performance.\n",
      "  rank_zero_warn(\n"
     ]
    },
    {
     "data": {
      "application/vnd.jupyter.widget-view+json": {
       "model_id": "60d07f837d10477ebcf1e3806a7d2df5",
       "version_major": 2,
       "version_minor": 0
      },
      "text/plain": [
       "Training: 0it [00:00, ?it/s]"
      ]
     },
     "metadata": {},
     "output_type": "display_data"
    },
    {
     "name": "stderr",
     "output_type": "stream",
     "text": [
      "`Trainer.fit` stopped: `max_epochs=550` reached.\n"
     ]
    }
   ],
   "source": [
    "model.fit()"
   ]
  },
  {
   "cell_type": "code",
   "execution_count": 9,
   "metadata": {},
   "outputs": [],
   "source": [
    "if not os.path.exists(f\"{trial_name}/data\"):\n",
    "    os.makedirs(f\"{trial_name}/data\")   \n",
    "save_gdata(gdata, path=f\"{trial_name}/data/gdata_multi.pkl\")\n",
    "adata.write_h5ad(f\"{trial_name}/data/trial_multi.h5ad\")"
   ]
  },
  {
   "cell_type": "code",
   "execution_count": 10,
   "metadata": {},
   "outputs": [
    {
     "name": "stderr",
     "output_type": "stream",
     "text": [
      "/tmp/ipykernel_829493/12540644.py:3: ImplicitModificationWarning: Setting element `.obsm['STForte_ATTR']` of view, initializing view as actual.\n",
      "  adata.obsm['STForte_ATTR'] = z_attr.detach().numpy()\n",
      "/home/wcx99075523/miniconda3/envs/stforte/lib/python3.9/site-packages/anndata/_core/anndata.py:1897: UserWarning: Observation names are not unique. To make them unique, call `.obs_names_make_unique`.\n",
      "  utils.warn_names_duplicates(\"obs\")\n"
     ]
    }
   ],
   "source": [
    "import torch\n",
    "z_attr, z_strc, _, _, _, _ = model._get_module_output()\n",
    "adata.obsm['STForte_ATTR'] = z_attr.detach().numpy()\n",
    "adata.obsm['STForte_TOPO'] = z_strc.detach().numpy()\n",
    "adata.obsm['STForte_COMB'] = torch.cat([z_attr,z_strc],dim=1).detach().numpy()\n",
    "if not os.path.exists(f\"./{trial_name}/outputs\"):\n",
    "    os.makedirs(f\"./{trial_name}/outputs\")\n",
    "adata.write(f\"./{trial_name}/outputs/stforte_multi.h5ad\")"
   ]
  },
  {
   "cell_type": "code",
   "execution_count": 11,
   "metadata": {},
   "outputs": [
    {
     "name": "stderr",
     "output_type": "stream",
     "text": [
      "/home/wcx99075523/miniconda3/envs/stforte/lib/python3.9/site-packages/anndata/_core/anndata.py:1897: UserWarning: Observation names are not unique. To make them unique, call `.obs_names_make_unique`.\n",
      "  utils.warn_names_duplicates(\"obs\")\n"
     ]
    }
   ],
   "source": [
    "# For analysis in padding resolution\n",
    "adata_sp = model.get_result_anndata(adj_mat=False)\n",
    "adata_sp.obs['section_id'] = adata.obs['section_id']\n",
    "adata_sp.obs['section_id'].astype(\"str\").astype(\"category\")\n",
    "adata_sp.write_h5ad(\"./{:s}/outputs/sp_multi.h5ad\".format(trial_name))"
   ]
  },
  {
   "cell_type": "code",
   "execution_count": null,
   "metadata": {},
   "outputs": [],
   "source": []
  }
 ],
 "metadata": {
  "kernelspec": {
   "display_name": "stforte",
   "language": "python",
   "name": "python3"
  },
  "language_info": {
   "codemirror_mode": {
    "name": "ipython",
    "version": 3
   },
   "file_extension": ".py",
   "mimetype": "text/x-python",
   "name": "python",
   "nbconvert_exporter": "python",
   "pygments_lexer": "ipython3",
   "version": "3.9.16"
  }
 },
 "nbformat": 4,
 "nbformat_minor": 2
}
