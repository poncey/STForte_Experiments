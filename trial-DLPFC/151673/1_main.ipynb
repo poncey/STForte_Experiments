{
 "cells": [
  {
   "attachments": {},
   "cell_type": "markdown",
   "metadata": {},
   "source": [
    "# Spaital region identification for human dorsolateral prefrontal cortex (DLPFC) data\n",
    "\n",
    "At first, load neccessary packages."
   ]
  },
  {
   "cell_type": "code",
   "execution_count": 1,
   "metadata": {},
   "outputs": [
    {
     "name": "stderr",
     "output_type": "stream",
     "text": [
      "Global seed set to 0\n"
     ]
    }
   ],
   "source": [
    "import os\n",
    "os.chdir(path='../../')\n",
    "import scanpy as sc\n",
    "import plotly.express as px\n",
    "from STForte import STGraph\n",
    "from STForte import STForteModel\n",
    "from STForte.helper import save_gdata\n",
    "trial_name = \"trial-DLPFC-pca/151673\"\n",
    "color_pallette = px.colors.qualitative.Plotly"
   ]
  },
  {
   "attachments": {},
   "cell_type": "markdown",
   "metadata": {},
   "source": [
    "## Data preprocessing and generation\n",
    "We perform simple preprocessing for the original data with the intention to remove empty count data. Then we generate the graph data format from the original anndata."
   ]
  },
  {
   "cell_type": "code",
   "execution_count": 2,
   "metadata": {},
   "outputs": [
    {
     "data": {
      "text/plain": [
       "AnnData object with n_obs × n_vars = 3639 × 33538\n",
       "    obs: 'in_tissue', 'array_row', 'array_col', 'spatialLIBD'\n",
       "    var: 'gene_ids', 'feature_types', 'genome'\n",
       "    uns: 'spatial', 'spatialLIBD_colors'\n",
       "    obsm: 'spatial'"
      ]
     },
     "execution_count": 2,
     "metadata": {},
     "output_type": "execute_result"
    }
   ],
   "source": [
    "adata = sc.read_h5ad('./data/DLPFC/151673_10xvisium.h5ad')\n",
    "adata"
   ]
  },
  {
   "cell_type": "code",
   "execution_count": 3,
   "metadata": {},
   "outputs": [
    {
     "data": {
      "application/vnd.jupyter.widget-view+json": {
       "model_id": "e54865275beb42b284ddbd64b12c5dbc",
       "version_major": 2,
       "version_minor": 0
      },
      "text/plain": [
       "d-based initialize:   0%|          | 0/3639 [00:00<?, ?it/s]"
      ]
     },
     "metadata": {},
     "output_type": "display_data"
    },
    {
     "name": "stdout",
     "output_type": "stream",
     "text": [
      "PCA pre-compression for data, from 21842 onto 300-dim.\n",
      "Scaling data: None; SVD solver: full; random_state=42.\n",
      "Start compression...\tDone! Elapsed time: 25.11s.\n"
     ]
    },
    {
     "data": {
      "application/vnd.jupyter.widget-view+json": {
       "model_id": "68058896f0ab49b2ac5063d1cf240ab0",
       "version_major": 2,
       "version_minor": 0
      },
      "text/plain": [
       "brute-force knn initialize:   0%|          | 0/14201 [00:00<?, ?it/s]"
      ]
     },
     "metadata": {},
     "output_type": "display_data"
    },
    {
     "data": {
      "text/plain": [
       "Data(x=[14201, 300], xfp=[14201, 300], adj_t=[14201, 14201, nnz=255618], inv_dist=[255618], value_idx=[3639], infer_idx=[10562], coord=[14201, 2], x_id=[14201], mask_idx=[0])"
      ]
     },
     "execution_count": 3,
     "metadata": {},
     "output_type": "execute_result"
    }
   ],
   "source": [
    "d = adata.uns['spatial']['stomic']['scalefactors']['fiducial_diameter_fullres']\n",
    "stgraph = STGraph.graphFromAnndata(\n",
    "    adata=adata,\n",
    "    d=d,\n",
    "    )\n",
    "stgraph.pca()\n",
    "stgraph.padding(reconstruct_knn=True, reconstruct_k=18)\n",
    "gdata = stgraph.topyg()\n",
    "gdata"
   ]
  },
  {
   "attachments": {},
   "cell_type": "markdown",
   "metadata": {},
   "source": [
    "## STForte Model\n",
    "\n",
    "First, we establish model for DLPFC analysis with used anndata/graph data."
   ]
  },
  {
   "cell_type": "code",
   "execution_count": 4,
   "metadata": {},
   "outputs": [
    {
     "data": {
      "text/plain": [
       "<STForte._model.STForteModel at 0x7f0a17152700>"
      ]
     },
     "execution_count": 4,
     "metadata": {},
     "output_type": "execute_result"
    }
   ],
   "source": [
    "model = STForteModel(adata=adata, gdata=gdata, epochs=450,\n",
    "                     output_dir='./{:s}/pl_ckpts/'.format(trial_name))\n",
    "model"
   ]
  },
  {
   "attachments": {},
   "cell_type": "markdown",
   "metadata": {},
   "source": [
    "Fit the model."
   ]
  },
  {
   "cell_type": "code",
   "execution_count": 5,
   "metadata": {},
   "outputs": [
    {
     "name": "stderr",
     "output_type": "stream",
     "text": [
      "Global seed set to 42\n",
      "/home/chunxuan/miniconda3/envs/stforte/lib/python3.9/site-packages/pytorch_lightning/trainer/connectors/accelerator_connector.py:478: LightningDeprecationWarning: Setting `Trainer(gpus=1)` is deprecated in v1.7 and will be removed in v2.0. Please use `Trainer(accelerator='gpu', devices=1)` instead.\n",
      "  rank_zero_deprecation(\n",
      "GPU available: True (cuda), used: True\n",
      "TPU available: False, using: 0 TPU cores\n",
      "IPU available: False, using: 0 IPUs\n",
      "HPU available: False, using: 0 HPUs\n",
      "LOCAL_RANK: 0 - CUDA_VISIBLE_DEVICES: [0]\n",
      "\n",
      "  | Name          | Type              | Params\n",
      "----------------------------------------------------\n",
      "0 | attr_encoder  | Sequential        | 71.9 K\n",
      "1 | strc_encoder  | Sequential_f91146 | 71.9 K\n",
      "2 | attr_decoder  | Sequential        | 72.2 K\n",
      "3 | strc_decoder  | Sequential        | 2.1 K \n",
      "4 | discriminator | Sequential        | 1.1 K \n",
      "----------------------------------------------------\n",
      "219 K     Trainable params\n",
      "0         Non-trainable params\n",
      "219 K     Total params\n",
      "0.877     Total estimated model params size (MB)\n",
      "/home/chunxuan/miniconda3/envs/stforte/lib/python3.9/site-packages/pytorch_lightning/trainer/connectors/data_connector.py:224: PossibleUserWarning: The dataloader, train_dataloader, does not have many workers which may be a bottleneck. Consider increasing the value of the `num_workers` argument` (try 20 which is the number of cpus on this machine) in the `DataLoader` init to improve performance.\n",
      "  rank_zero_warn(\n"
     ]
    },
    {
     "data": {
      "application/vnd.jupyter.widget-view+json": {
       "model_id": "7b9d25ad5ec34b6c87d6ff4b2729f131",
       "version_major": 2,
       "version_minor": 0
      },
      "text/plain": [
       "Training: 0it [00:00, ?it/s]"
      ]
     },
     "metadata": {},
     "output_type": "display_data"
    },
    {
     "name": "stderr",
     "output_type": "stream",
     "text": [
      "`Trainer.fit` stopped: `max_epochs=450` reached.\n"
     ]
    }
   ],
   "source": [
    "model.fit()"
   ]
  },
  {
   "attachments": {},
   "cell_type": "markdown",
   "metadata": {},
   "source": [
    "Save the anndata, gdata and model parameters for reproduction."
   ]
  },
  {
   "cell_type": "code",
   "execution_count": 6,
   "metadata": {},
   "outputs": [],
   "source": [
    "if not os.path.exists(f\"{trial_name}/data\"):\n",
    "    os.makedirs(f\"{trial_name}/data\")\n",
    "save_gdata(gdata, path=f\"{trial_name}/data/gdata.pkl\")\n",
    "adata.write_h5ad(f\"{trial_name}/data/trial.h5ad\")\n",
    "model.save_state_dict(f'./{trial_name}/models/', alias=\"STForteModel_DLPFC_151673\")"
   ]
  },
  {
   "attachments": {},
   "cell_type": "markdown",
   "metadata": {},
   "source": [
    "Save the STForte output results"
   ]
  },
  {
   "cell_type": "code",
   "execution_count": 7,
   "metadata": {},
   "outputs": [],
   "source": [
    "model.get_latent_original(adata)\n",
    "if not os.path.exists(f\"./{trial_name}/outputs\"):\n",
    "    os.makedirs(f\"./{trial_name}/outputs\")\n",
    "adata.write(f\"./{trial_name}/outputs/stforte.h5ad\")\n",
    "# For analysis in padding resolution\n",
    "adata_sp = model.get_result_anndata()\n",
    "adata_sp.write_h5ad(\"./{:s}/outputs/sp.h5ad\".format(trial_name))"
   ]
  },
  {
   "cell_type": "code",
   "execution_count": null,
   "metadata": {},
   "outputs": [],
   "source": []
  }
 ],
 "metadata": {
  "kernelspec": {
   "display_name": "stforte_env",
   "language": "python",
   "name": "python3"
  },
  "language_info": {
   "codemirror_mode": {
    "name": "ipython",
    "version": 3
   },
   "file_extension": ".py",
   "mimetype": "text/x-python",
   "name": "python",
   "nbconvert_exporter": "python",
   "pygments_lexer": "ipython3",
   "version": "3.9.16"
  },
  "orig_nbformat": 4
 },
 "nbformat": 4,
 "nbformat_minor": 2
}
