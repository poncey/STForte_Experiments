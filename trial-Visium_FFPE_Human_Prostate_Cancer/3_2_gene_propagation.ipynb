{
 "cells": [
  {
   "cell_type": "code",
   "execution_count": 1,
   "metadata": {},
   "outputs": [
    {
     "name": "stderr",
     "output_type": "stream",
     "text": [
      "Global seed set to 0\n"
     ]
    }
   ],
   "source": [
    "import os\n",
    "os.chdir(path='../')\n",
    "import scanpy as sc\n",
    "import plotly.express as px\n",
    "import STForte.helper as stfhelper\n",
    "trial_name = \"trial-Visium_FFPE_Human_Prostate_Cancer\"\n",
    "data_name = \"Visium_FFPE_Human_Prostate_Cancer\""
   ]
  },
  {
   "cell_type": "code",
   "execution_count": 2,
   "metadata": {},
   "outputs": [
    {
     "data": {
      "text/plain": [
       "AnnData object with n_obs × n_vars = 4371 × 17943\n",
       "    obs: 'in_tissue', 'array_row', 'array_col', 'STForte_Mask', 'leiden', 'region_refined'\n",
       "    var: 'gene_ids', 'feature_types', 'genome'\n",
       "    uns: 'leiden', 'leiden_color_map', 'leiden_colors', 'neighbors', 'spatial', 'umap'\n",
       "    obsm: 'STForte_ATTR', 'STForte_COMB', 'STForte_TOPO', 'X_umap', 'spatial'\n",
       "    obsp: 'connectivities', 'distances'"
      ]
     },
     "execution_count": 2,
     "metadata": {},
     "output_type": "execute_result"
    }
   ],
   "source": [
    "adata = sc.read_h5ad(f\"{trial_name}/outputs/stforte.h5ad\")\n",
    "adata"
   ]
  },
  {
   "cell_type": "code",
   "execution_count": 3,
   "metadata": {},
   "outputs": [
    {
     "data": {
      "text/plain": [
       "AnnData object with n_obs × n_vars = 17040 × 300\n",
       "    obs: 'spot_instance', 'leiden_with_padding', 'region_refined_padding'\n",
       "    uns: 'leiden_with_padding_color_map', 'leiden_with_padding_colors', 'neighbors', 'umap'\n",
       "    obsm: 'SP_ATTR_FP', 'SP_COMB', 'SP_TOPO', 'X_umap', 'spatial'\n",
       "    obsp: 'A_STForte_conn', 'A_STForte_recon', 'connectivities', 'distances'"
      ]
     },
     "execution_count": 3,
     "metadata": {},
     "output_type": "execute_result"
    }
   ],
   "source": [
    "adata_sp = sc.read_h5ad(f\"{trial_name}/outputs/sp.h5ad\")\n",
    "adata_sp"
   ]
  },
  {
   "cell_type": "code",
   "execution_count": 4,
   "metadata": {},
   "outputs": [],
   "source": [
    "# Find highly variable genes for gene propagation\n",
    "sc.pp.highly_variable_genes(adata, n_top_genes=3000, flavor='seurat_v3')\n",
    "gene_names = adata.var_names[adata.var[\"highly_variable\"] == True]"
   ]
  },
  {
   "cell_type": "code",
   "execution_count": 5,
   "metadata": {},
   "outputs": [],
   "source": [
    "sc.pp.normalize_total(adata, target_sum=1e4)\n",
    "sc.pp.log1p(adata)"
   ]
  },
  {
   "cell_type": "code",
   "execution_count": 6,
   "metadata": {},
   "outputs": [
    {
     "data": {
      "application/vnd.jupyter.widget-view+json": {
       "model_id": "d94b85830a9d43bd8fc98a78a00fd46d",
       "version_major": 2,
       "version_minor": 0
      },
      "text/plain": [
       "Propagating genes...:   0%|          | 0/3000 [00:00<?, ?it/s]"
      ]
     },
     "metadata": {},
     "output_type": "display_data"
    }
   ],
   "source": [
    "expr_matrix = stfhelper.complete_unseen_expression(adata_sp, gene_names, adata, copy=True, name_suffix='',)"
   ]
  },
  {
   "cell_type": "code",
   "execution_count": 7,
   "metadata": {},
   "outputs": [
    {
     "data": {
      "text/html": [
       "<div>\n",
       "<style scoped>\n",
       "    .dataframe tbody tr th:only-of-type {\n",
       "        vertical-align: middle;\n",
       "    }\n",
       "\n",
       "    .dataframe tbody tr th {\n",
       "        vertical-align: top;\n",
       "    }\n",
       "\n",
       "    .dataframe thead th {\n",
       "        text-align: right;\n",
       "    }\n",
       "</style>\n",
       "<table border=\"1\" class=\"dataframe\">\n",
       "  <thead>\n",
       "    <tr style=\"text-align: right;\">\n",
       "      <th></th>\n",
       "      <th>ISG15</th>\n",
       "      <th>B3GALT6</th>\n",
       "      <th>FNDC10</th>\n",
       "      <th>SLC35E2B</th>\n",
       "      <th>SLC35E2A</th>\n",
       "      <th>NADK</th>\n",
       "      <th>PRKCZ</th>\n",
       "      <th>RER1</th>\n",
       "      <th>PEX10</th>\n",
       "      <th>PLCH2</th>\n",
       "      <th>...</th>\n",
       "      <th>ZNF185</th>\n",
       "      <th>BGN</th>\n",
       "      <th>SSR4</th>\n",
       "      <th>L1CAM</th>\n",
       "      <th>ATP6AP1</th>\n",
       "      <th>DKC1</th>\n",
       "      <th>VBP1</th>\n",
       "      <th>ZFY</th>\n",
       "      <th>TBL1Y</th>\n",
       "      <th>USP9Y</th>\n",
       "    </tr>\n",
       "  </thead>\n",
       "  <tbody>\n",
       "    <tr>\n",
       "      <th>AAACAAGTATCTCCCA-1</th>\n",
       "      <td>0.000000</td>\n",
       "      <td>0.000000</td>\n",
       "      <td>0.000000</td>\n",
       "      <td>0.000000</td>\n",
       "      <td>0.762750</td>\n",
       "      <td>1.190380</td>\n",
       "      <td>0.000000</td>\n",
       "      <td>1.190380</td>\n",
       "      <td>0.000000</td>\n",
       "      <td>0.000000</td>\n",
       "      <td>...</td>\n",
       "      <td>0.762750</td>\n",
       "      <td>0.000000</td>\n",
       "      <td>1.905211</td>\n",
       "      <td>0.000000</td>\n",
       "      <td>0.000000</td>\n",
       "      <td>0.000000</td>\n",
       "      <td>0.000000</td>\n",
       "      <td>0.762750</td>\n",
       "      <td>0.000000</td>\n",
       "      <td>0.000000</td>\n",
       "    </tr>\n",
       "    <tr>\n",
       "      <th>AAACACCAATAACTGC-1</th>\n",
       "      <td>0.000000</td>\n",
       "      <td>0.541118</td>\n",
       "      <td>0.000000</td>\n",
       "      <td>0.890297</td>\n",
       "      <td>0.000000</td>\n",
       "      <td>0.541118</td>\n",
       "      <td>0.541118</td>\n",
       "      <td>1.795998</td>\n",
       "      <td>0.000000</td>\n",
       "      <td>1.148602</td>\n",
       "      <td>...</td>\n",
       "      <td>0.541118</td>\n",
       "      <td>1.353695</td>\n",
       "      <td>1.148602</td>\n",
       "      <td>0.000000</td>\n",
       "      <td>1.523800</td>\n",
       "      <td>0.000000</td>\n",
       "      <td>0.541118</td>\n",
       "      <td>0.000000</td>\n",
       "      <td>0.000000</td>\n",
       "      <td>0.000000</td>\n",
       "    </tr>\n",
       "    <tr>\n",
       "      <th>AAACAGAGCGACTCCT-1</th>\n",
       "      <td>0.000000</td>\n",
       "      <td>1.258236</td>\n",
       "      <td>0.000000</td>\n",
       "      <td>0.815190</td>\n",
       "      <td>0.815190</td>\n",
       "      <td>0.488459</td>\n",
       "      <td>0.488459</td>\n",
       "      <td>1.061051</td>\n",
       "      <td>0.000000</td>\n",
       "      <td>0.000000</td>\n",
       "      <td>...</td>\n",
       "      <td>0.000000</td>\n",
       "      <td>0.815190</td>\n",
       "      <td>1.987603</td>\n",
       "      <td>0.000000</td>\n",
       "      <td>1.687993</td>\n",
       "      <td>0.815190</td>\n",
       "      <td>0.488459</td>\n",
       "      <td>0.000000</td>\n",
       "      <td>0.000000</td>\n",
       "      <td>0.000000</td>\n",
       "    </tr>\n",
       "    <tr>\n",
       "      <th>AAACAGCTTTCAGAAG-1</th>\n",
       "      <td>0.505758</td>\n",
       "      <td>0.000000</td>\n",
       "      <td>0.000000</td>\n",
       "      <td>1.599276</td>\n",
       "      <td>0.000000</td>\n",
       "      <td>0.000000</td>\n",
       "      <td>0.505758</td>\n",
       "      <td>1.090151</td>\n",
       "      <td>0.840050</td>\n",
       "      <td>0.000000</td>\n",
       "      <td>...</td>\n",
       "      <td>0.840050</td>\n",
       "      <td>1.090151</td>\n",
       "      <td>1.290049</td>\n",
       "      <td>0.000000</td>\n",
       "      <td>1.290049</td>\n",
       "      <td>0.505758</td>\n",
       "      <td>0.840050</td>\n",
       "      <td>0.000000</td>\n",
       "      <td>0.505758</td>\n",
       "      <td>0.000000</td>\n",
       "    </tr>\n",
       "    <tr>\n",
       "      <th>AAACAGGGTCTATATT-1</th>\n",
       "      <td>1.257966</td>\n",
       "      <td>0.814979</td>\n",
       "      <td>0.000000</td>\n",
       "      <td>0.814979</td>\n",
       "      <td>0.000000</td>\n",
       "      <td>0.000000</td>\n",
       "      <td>0.814979</td>\n",
       "      <td>0.814979</td>\n",
       "      <td>0.000000</td>\n",
       "      <td>0.000000</td>\n",
       "      <td>...</td>\n",
       "      <td>0.814979</td>\n",
       "      <td>0.814979</td>\n",
       "      <td>1.563894</td>\n",
       "      <td>0.000000</td>\n",
       "      <td>0.000000</td>\n",
       "      <td>0.814979</td>\n",
       "      <td>1.257966</td>\n",
       "      <td>0.000000</td>\n",
       "      <td>0.000000</td>\n",
       "      <td>0.000000</td>\n",
       "    </tr>\n",
       "    <tr>\n",
       "      <th>...</th>\n",
       "      <td>...</td>\n",
       "      <td>...</td>\n",
       "      <td>...</td>\n",
       "      <td>...</td>\n",
       "      <td>...</td>\n",
       "      <td>...</td>\n",
       "      <td>...</td>\n",
       "      <td>...</td>\n",
       "      <td>...</td>\n",
       "      <td>...</td>\n",
       "      <td>...</td>\n",
       "      <td>...</td>\n",
       "      <td>...</td>\n",
       "      <td>...</td>\n",
       "      <td>...</td>\n",
       "      <td>...</td>\n",
       "      <td>...</td>\n",
       "      <td>...</td>\n",
       "      <td>...</td>\n",
       "      <td>...</td>\n",
       "      <td>...</td>\n",
       "    </tr>\n",
       "    <tr>\n",
       "      <th>pad_12665</th>\n",
       "      <td>0.261516</td>\n",
       "      <td>0.614870</td>\n",
       "      <td>0.046270</td>\n",
       "      <td>0.832620</td>\n",
       "      <td>0.263659</td>\n",
       "      <td>0.150557</td>\n",
       "      <td>0.108955</td>\n",
       "      <td>0.667157</td>\n",
       "      <td>0.211998</td>\n",
       "      <td>0.047737</td>\n",
       "      <td>...</td>\n",
       "      <td>0.569194</td>\n",
       "      <td>1.209561</td>\n",
       "      <td>1.777690</td>\n",
       "      <td>0.000000</td>\n",
       "      <td>0.781443</td>\n",
       "      <td>0.220277</td>\n",
       "      <td>0.316363</td>\n",
       "      <td>0.027920</td>\n",
       "      <td>0.000000</td>\n",
       "      <td>0.122557</td>\n",
       "    </tr>\n",
       "    <tr>\n",
       "      <th>pad_12666</th>\n",
       "      <td>0.058431</td>\n",
       "      <td>0.460282</td>\n",
       "      <td>0.001497</td>\n",
       "      <td>0.889769</td>\n",
       "      <td>0.357954</td>\n",
       "      <td>0.490988</td>\n",
       "      <td>0.370187</td>\n",
       "      <td>1.265695</td>\n",
       "      <td>0.462546</td>\n",
       "      <td>0.026083</td>\n",
       "      <td>...</td>\n",
       "      <td>0.298474</td>\n",
       "      <td>1.065587</td>\n",
       "      <td>1.848850</td>\n",
       "      <td>0.000000</td>\n",
       "      <td>1.247716</td>\n",
       "      <td>0.637927</td>\n",
       "      <td>0.662858</td>\n",
       "      <td>0.236527</td>\n",
       "      <td>0.135755</td>\n",
       "      <td>0.093283</td>\n",
       "    </tr>\n",
       "    <tr>\n",
       "      <th>pad_12667</th>\n",
       "      <td>0.330130</td>\n",
       "      <td>0.225719</td>\n",
       "      <td>0.021143</td>\n",
       "      <td>0.600697</td>\n",
       "      <td>0.081111</td>\n",
       "      <td>0.459267</td>\n",
       "      <td>0.142894</td>\n",
       "      <td>0.748049</td>\n",
       "      <td>0.102020</td>\n",
       "      <td>0.375621</td>\n",
       "      <td>...</td>\n",
       "      <td>0.498201</td>\n",
       "      <td>1.379625</td>\n",
       "      <td>0.712027</td>\n",
       "      <td>0.239497</td>\n",
       "      <td>0.796031</td>\n",
       "      <td>0.024176</td>\n",
       "      <td>0.604012</td>\n",
       "      <td>0.420939</td>\n",
       "      <td>0.093897</td>\n",
       "      <td>0.089765</td>\n",
       "    </tr>\n",
       "    <tr>\n",
       "      <th>pad_12668</th>\n",
       "      <td>0.140217</td>\n",
       "      <td>0.328889</td>\n",
       "      <td>0.011414</td>\n",
       "      <td>0.856738</td>\n",
       "      <td>0.508400</td>\n",
       "      <td>0.528337</td>\n",
       "      <td>0.470119</td>\n",
       "      <td>0.999213</td>\n",
       "      <td>0.207591</td>\n",
       "      <td>0.098155</td>\n",
       "      <td>...</td>\n",
       "      <td>0.168219</td>\n",
       "      <td>1.716686</td>\n",
       "      <td>1.421717</td>\n",
       "      <td>0.019049</td>\n",
       "      <td>0.942995</td>\n",
       "      <td>0.532720</td>\n",
       "      <td>0.419069</td>\n",
       "      <td>0.173286</td>\n",
       "      <td>0.002953</td>\n",
       "      <td>0.440661</td>\n",
       "    </tr>\n",
       "    <tr>\n",
       "      <th>pad_12669</th>\n",
       "      <td>0.000000</td>\n",
       "      <td>0.439475</td>\n",
       "      <td>0.000000</td>\n",
       "      <td>0.449937</td>\n",
       "      <td>0.627906</td>\n",
       "      <td>0.418739</td>\n",
       "      <td>0.208355</td>\n",
       "      <td>1.212725</td>\n",
       "      <td>0.489866</td>\n",
       "      <td>0.068943</td>\n",
       "      <td>...</td>\n",
       "      <td>0.055761</td>\n",
       "      <td>1.245700</td>\n",
       "      <td>1.512207</td>\n",
       "      <td>0.077306</td>\n",
       "      <td>1.115478</td>\n",
       "      <td>0.519610</td>\n",
       "      <td>0.520092</td>\n",
       "      <td>0.305944</td>\n",
       "      <td>0.534203</td>\n",
       "      <td>0.362999</td>\n",
       "    </tr>\n",
       "  </tbody>\n",
       "</table>\n",
       "<p>17040 rows × 3000 columns</p>\n",
       "</div>"
      ],
      "text/plain": [
       "                       ISG15   B3GALT6    FNDC10  SLC35E2B  SLC35E2A  \\\n",
       "AAACAAGTATCTCCCA-1  0.000000  0.000000  0.000000  0.000000  0.762750   \n",
       "AAACACCAATAACTGC-1  0.000000  0.541118  0.000000  0.890297  0.000000   \n",
       "AAACAGAGCGACTCCT-1  0.000000  1.258236  0.000000  0.815190  0.815190   \n",
       "AAACAGCTTTCAGAAG-1  0.505758  0.000000  0.000000  1.599276  0.000000   \n",
       "AAACAGGGTCTATATT-1  1.257966  0.814979  0.000000  0.814979  0.000000   \n",
       "...                      ...       ...       ...       ...       ...   \n",
       "pad_12665           0.261516  0.614870  0.046270  0.832620  0.263659   \n",
       "pad_12666           0.058431  0.460282  0.001497  0.889769  0.357954   \n",
       "pad_12667           0.330130  0.225719  0.021143  0.600697  0.081111   \n",
       "pad_12668           0.140217  0.328889  0.011414  0.856738  0.508400   \n",
       "pad_12669           0.000000  0.439475  0.000000  0.449937  0.627906   \n",
       "\n",
       "                        NADK     PRKCZ      RER1     PEX10     PLCH2  ...  \\\n",
       "AAACAAGTATCTCCCA-1  1.190380  0.000000  1.190380  0.000000  0.000000  ...   \n",
       "AAACACCAATAACTGC-1  0.541118  0.541118  1.795998  0.000000  1.148602  ...   \n",
       "AAACAGAGCGACTCCT-1  0.488459  0.488459  1.061051  0.000000  0.000000  ...   \n",
       "AAACAGCTTTCAGAAG-1  0.000000  0.505758  1.090151  0.840050  0.000000  ...   \n",
       "AAACAGGGTCTATATT-1  0.000000  0.814979  0.814979  0.000000  0.000000  ...   \n",
       "...                      ...       ...       ...       ...       ...  ...   \n",
       "pad_12665           0.150557  0.108955  0.667157  0.211998  0.047737  ...   \n",
       "pad_12666           0.490988  0.370187  1.265695  0.462546  0.026083  ...   \n",
       "pad_12667           0.459267  0.142894  0.748049  0.102020  0.375621  ...   \n",
       "pad_12668           0.528337  0.470119  0.999213  0.207591  0.098155  ...   \n",
       "pad_12669           0.418739  0.208355  1.212725  0.489866  0.068943  ...   \n",
       "\n",
       "                      ZNF185       BGN      SSR4     L1CAM   ATP6AP1  \\\n",
       "AAACAAGTATCTCCCA-1  0.762750  0.000000  1.905211  0.000000  0.000000   \n",
       "AAACACCAATAACTGC-1  0.541118  1.353695  1.148602  0.000000  1.523800   \n",
       "AAACAGAGCGACTCCT-1  0.000000  0.815190  1.987603  0.000000  1.687993   \n",
       "AAACAGCTTTCAGAAG-1  0.840050  1.090151  1.290049  0.000000  1.290049   \n",
       "AAACAGGGTCTATATT-1  0.814979  0.814979  1.563894  0.000000  0.000000   \n",
       "...                      ...       ...       ...       ...       ...   \n",
       "pad_12665           0.569194  1.209561  1.777690  0.000000  0.781443   \n",
       "pad_12666           0.298474  1.065587  1.848850  0.000000  1.247716   \n",
       "pad_12667           0.498201  1.379625  0.712027  0.239497  0.796031   \n",
       "pad_12668           0.168219  1.716686  1.421717  0.019049  0.942995   \n",
       "pad_12669           0.055761  1.245700  1.512207  0.077306  1.115478   \n",
       "\n",
       "                        DKC1      VBP1       ZFY     TBL1Y     USP9Y  \n",
       "AAACAAGTATCTCCCA-1  0.000000  0.000000  0.762750  0.000000  0.000000  \n",
       "AAACACCAATAACTGC-1  0.000000  0.541118  0.000000  0.000000  0.000000  \n",
       "AAACAGAGCGACTCCT-1  0.815190  0.488459  0.000000  0.000000  0.000000  \n",
       "AAACAGCTTTCAGAAG-1  0.505758  0.840050  0.000000  0.505758  0.000000  \n",
       "AAACAGGGTCTATATT-1  0.814979  1.257966  0.000000  0.000000  0.000000  \n",
       "...                      ...       ...       ...       ...       ...  \n",
       "pad_12665           0.220277  0.316363  0.027920  0.000000  0.122557  \n",
       "pad_12666           0.637927  0.662858  0.236527  0.135755  0.093283  \n",
       "pad_12667           0.024176  0.604012  0.420939  0.093897  0.089765  \n",
       "pad_12668           0.532720  0.419069  0.173286  0.002953  0.440661  \n",
       "pad_12669           0.519610  0.520092  0.305944  0.534203  0.362999  \n",
       "\n",
       "[17040 rows x 3000 columns]"
      ]
     },
     "execution_count": 7,
     "metadata": {},
     "output_type": "execute_result"
    }
   ],
   "source": [
    "expr_matrix"
   ]
  },
  {
   "cell_type": "code",
   "execution_count": 8,
   "metadata": {},
   "outputs": [
    {
     "data": {
      "text/plain": [
       "AnnData object with n_obs × n_vars = 17040 × 300\n",
       "    obs: 'spot_instance', 'leiden_with_padding', 'region_refined_padding'\n",
       "    uns: 'leiden_with_padding_color_map', 'leiden_with_padding_colors', 'neighbors', 'umap'\n",
       "    obsm: 'SP_ATTR_FP', 'SP_COMB', 'SP_TOPO', 'X_umap', 'spatial'\n",
       "    obsp: 'A_STForte_conn', 'A_STForte_recon', 'connectivities', 'distances'"
      ]
     },
     "execution_count": 8,
     "metadata": {},
     "output_type": "execute_result"
    }
   ],
   "source": [
    "adata_sp"
   ]
  },
  {
   "cell_type": "code",
   "execution_count": 9,
   "metadata": {},
   "outputs": [
    {
     "data": {
      "text/plain": [
       "AnnData object with n_obs × n_vars = 17040 × 3000\n",
       "    obs: 'spot_instance', 'leiden_with_padding', 'region_refined_padding'"
      ]
     },
     "execution_count": 9,
     "metadata": {},
     "output_type": "execute_result"
    }
   ],
   "source": [
    "import anndata\n",
    "import numpy as np \n",
    "import pandas as pd\n",
    "\n",
    "adata_sp_new = anndata.AnnData(\n",
    "    X=np.matrix(expr_matrix),\n",
    "    obs=adata_sp.obs,\n",
    "    var=pd.DataFrame(index=expr_matrix.columns)\n",
    ")\n",
    "adata_sp_new"
   ]
  },
  {
   "cell_type": "code",
   "execution_count": 10,
   "metadata": {},
   "outputs": [],
   "source": [
    "adata_sp_new.obsm = adata_sp.obsm\n",
    "adata_sp_new.obsp = adata_sp.obsp\n",
    "adata_sp_new.uns = adata_sp.uns"
   ]
  },
  {
   "cell_type": "code",
   "execution_count": 11,
   "metadata": {},
   "outputs": [
    {
     "data": {
      "text/plain": [
       "AnnData object with n_obs × n_vars = 17040 × 3000\n",
       "    obs: 'spot_instance', 'leiden_with_padding', 'region_refined_padding'\n",
       "    uns: 'leiden_with_padding_color_map', 'leiden_with_padding_colors', 'neighbors', 'umap'\n",
       "    obsm: 'SP_ATTR_FP', 'SP_COMB', 'SP_TOPO', 'X_umap', 'spatial'\n",
       "    obsp: 'A_STForte_conn', 'A_STForte_recon', 'connectivities', 'distances'"
      ]
     },
     "execution_count": 11,
     "metadata": {},
     "output_type": "execute_result"
    }
   ],
   "source": [
    "adata_sp_new"
   ]
  },
  {
   "cell_type": "code",
   "execution_count": 12,
   "metadata": {},
   "outputs": [],
   "source": [
    "adata_sp_new.write_h5ad(f\"{trial_name}/outputs/sp_genes.h5ad\")"
   ]
  },
  {
   "cell_type": "code",
   "execution_count": null,
   "metadata": {},
   "outputs": [],
   "source": []
  }
 ],
 "metadata": {
  "kernelspec": {
   "display_name": "stforte_env",
   "language": "python",
   "name": "python3"
  },
  "language_info": {
   "codemirror_mode": {
    "name": "ipython",
    "version": 3
   },
   "file_extension": ".py",
   "mimetype": "text/x-python",
   "name": "python",
   "nbconvert_exporter": "python",
   "pygments_lexer": "ipython3",
   "version": "3.9.16"
  }
 },
 "nbformat": 4,
 "nbformat_minor": 2
}
